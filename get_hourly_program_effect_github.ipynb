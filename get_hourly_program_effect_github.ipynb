{
 "cells": [
  {
   "cell_type": "code",
   "execution_count": 7,
   "id": "886af0d2",
   "metadata": {},
   "outputs": [],
   "source": [
    "import numpy as np \n",
    "import pandas as pd"
   ]
  },
  {
   "cell_type": "code",
   "execution_count": 2,
   "id": "6b2ffdf8",
   "metadata": {},
   "outputs": [],
   "source": [
    "export = \"\""
   ]
  },
  {
   "cell_type": "code",
   "execution_count": null,
   "id": "6e9805f7",
   "metadata": {},
   "outputs": [],
   "source": [
    "eventParticipate = pd.read_csv(\"\") #df with the events each thermostat participated in\n",
    "\n",
    "events = pd.read_csv(\"\") #start end times of events\n",
    "events['START']=pd.to_datetime(events.START, utc=True).dt.tz_convert('America/Los_Angeles')\n",
    "events['END']=pd.to_datetime(events.END, utc=True).dt.tz_convert('America/Los_Angeles')\n",
    "\n",
    "\n",
    "eventsHours = pd.read_csv(\"\")\n",
    "eventsHours['DATE'] = pd.to_datetime(eventsHours.DATE, utc=True).dt.tz_convert('America/Los_Angeles')\n",
    "\n",
    "eventsHours.head()"
   ]
  },
  {
   "cell_type": "code",
   "execution_count": null,
   "id": "3a10c77c",
   "metadata": {},
   "outputs": [],
   "source": [
    "finalDF = pd.DataFrame()\n",
    "count = 0\n",
    "for identifier in eventParticipate.Identifier.unique():\n",
    "\n",
    "    dfKW = pd.read_csv() #dataframe with identifiers modeled electricity usage during events\n",
    "    dfKW['DATE'] = pd.to_datetime(dfKW.DATE, utc=True).dt.tz_convert('America/Los_Angeles')\n",
    "    dfKW = dfKW.set_index('DATE')\n",
    "    \n",
    "    eventsUse = eventParticipate[(eventParticipate.Identifier == identifier)&(eventParticipate.value == True)].event.unique()\n",
    "    \n",
    "    eventsDF = pd.DataFrame()\n",
    "    \n",
    "    for event in eventsUse:\n",
    "        hoursDF = eventsHours[eventsHours.event == event]\n",
    "        \n",
    "        for startTime,hour,minute,event in zip(hoursDF.DATE,hoursDF.event_hour,hoursDF.minutes,hoursDF.event):\n",
    "            if hour == 60:\n",
    "                minuteAdd = 55\n",
    "            else:\n",
    "                minuteAdd = 50\n",
    "                \n",
    "            dfEventHour = dfKW[startTime:startTime+pd.Timedelta(minutes=minuteAdd)]\n",
    "\n",
    "             \n",
    "            dfNew = pd.DataFrame({'Identifier':[identifier],'DATE':[startTime],'event':[event],'hour_event':[hour],'minutes':[minute],\n",
    "                                 'HourlyDryBulbTemperature':[dfEventHour.HourlyDryBulbTemperature.mean()],\n",
    "                                  'expected_kWh':[dfEventHour.expected_kWh.sum()],'perfect_kWh':[dfEventHour.perfect_kWh.sum()],\n",
    "                                 'actual_kWh':[dfEventHour.actual_kWh.sum()]})\n",
    "            \n",
    "            eventsDF = pd.concat([eventsDF,dfNew])\n",
    "            \n",
    "    finalDF = pd.concat([finalDF, eventsDF])        \n",
    "    count += 1\n",
    "    print(str(count))\n",
    "            \n",
    "finalDF['expected_kW'] = finalDF.expected_kWh * (60/finalDF.minutes)\n",
    "finalDF['perfect_kW'] = finalDF.perfect_kWh * (60/finalDF.minutes)\n",
    "finalDF['actual_kW'] = finalDF.actual_kWh * (60/finalDF.minutes)\n",
    "    \n",
    "finalDF['observed_impact_kW'] = finalDF.actual_kW - finalDF.expected_kW\n",
    "finalDF['counterfactual_impact_kW'] = finalDF.perfect_kW - finalDF.expected_kW\n",
    "finalDF['override_imapct_kW'] = finalDF.observed_impact_kW - finalDF.counterfactual_impact_kW\n",
    "    \n",
    "finalDF.to_csv(export + 'resultsByThermostatByHour.csv')"
   ]
  },
  {
   "cell_type": "code",
   "execution_count": null,
   "id": "e368fcc2",
   "metadata": {},
   "outputs": [],
   "source": [
    "results = pd.DataFrame()\n",
    "count = 0\n",
    "for identifier in finalDF.Identifier.unique():\n",
    "    \n",
    "    identifierDF = finalDF[finalDF.Identifier == identifier]\n",
    "    \n",
    "    for hourUse in identifierDF.hour_event.unique():\n",
    "        \n",
    "        hourDF = identifierDF[identifierDF.hour_event == hourUse]\n",
    "        \n",
    "        idDF = pd.DataFrame({'Identifier':[identifier],'hour_event':[hourUse],\n",
    "                             'observed_impact_kW_std':[hourDF.observed_impact_kW.std()],\n",
    "                            'counterfactual_impact_kW_std':[hourDF.counterfactual_impact_kW.std()],\n",
    "                            'observed_impact_kW_mean':[hourDF.observed_impact_kW.mean()],\n",
    "                            'counterfactual_impact_kW_mean':[hourDF.counterfactual_impact_kW.mean()]})\n",
    "        results = pd.concat([results, idDF])\n",
    "    count += 1\n",
    "    print(str(count))\n",
    "    \n",
    "    results.to_csv(export + 'resultByHourStdevMean.csv')"
   ]
  },
  {
   "cell_type": "code",
   "execution_count": null,
   "id": "ab105494",
   "metadata": {},
   "outputs": [],
   "source": [
    "lolp = pd.read_csv(\"\") #time series of LOLP by hour -- ELCC calculation output\n",
    "identifiers = pd.read_csv() #resultByHourStdevMean.csv file fromm earlier\n",
    "identifiers.head()"
   ]
  },
  {
   "cell_type": "code",
   "execution_count": null,
   "id": "977e3b96",
   "metadata": {},
   "outputs": [],
   "source": [
    "melt = pd.melt(identifiers[['Identifier','hour_event','observed_impact_kW_mean','counterfactual_impact_kW_mean']],id_vars=['Identifier','hour_event'])\n",
    "group = melt.groupby(['hour_event','variable'])['value'].sum().reset_index()\n",
    "group.head()"
   ]
  },
  {
   "cell_type": "code",
   "execution_count": null,
   "id": "a9697948",
   "metadata": {},
   "outputs": [],
   "source": [
    "df = pd.pivot_table(group,values='value',index='hour_event',columns=['variable']).reset_index()\n",
    "df.to_csv('')\n",
    "df.head()"
   ]
  },
  {
   "cell_type": "code",
   "execution_count": 59,
   "id": "396ade58",
   "metadata": {},
   "outputs": [],
   "source": [
    "identifierProfileObserved = lolp.merge(df[['hour_event','observed_impact_kW_mean']],how='left',on='hour_event')\n",
    "identifierProfileCounterfactual = lolp.merge(df[['hour_event','counterfactual_impact_kW_mean']],how='left',on='hour_event')\n",
    "\n",
    "hours = [1,2,3,4]\n",
    "\n",
    "for hour in hours:\n",
    "    \n",
    "    identifierProfileObservedX = identifierProfileObserved\n",
    "    identifierProfileCounterfactualX = identifierProfileCounterfactual\n",
    "    \n",
    "    identifierProfileObservedX['delta_override'] = identifierProfileObservedX['observed_impact_kW_mean'].fillna(0)\n",
    "    identifierProfileCounterfactualX['delta_noOverride'] = identifierProfileCounterfactualX['counterfactual_impact_kW_mean'].fillna(0)\n",
    "\n",
    "    identifierProfileObservedX['delta_override'] = np.where(identifierProfileObservedX.hour_event != hour, 0, identifierProfileObservedX.delta_override)\n",
    "    identifierProfileCounterfactualX['delta_noOverride'] = np.where(identifierProfileCounterfactualX.hour_event != hour, 0, identifierProfileCounterfactualX.delta_noOverride)\n",
    "    \n",
    "    finalObserved = identifierProfileObservedX.drop(columns=['LOLP','flag','hour_event','observed_impact_kW_mean'])\n",
    "    finalCounterfactual = identifierProfileCounterfactualX.drop(columns=['LOLP','flag','hour_event','counterfactual_impact_kW_mean'])\n",
    "\n",
    "    finalObserved['delta_override'] = finalObserved.delta_override * -1\n",
    "    finalCounterfactual['delta_noOverride'] = finalCounterfactual.delta_noOverride * -1\n",
    "\n",
    "    finalObserved.to_csv(\"\")\n",
    "    finalCounterfactual.to_csv('')"
   ]
  },
  {
   "cell_type": "code",
   "execution_count": null,
   "id": "c8f0da12",
   "metadata": {},
   "outputs": [],
   "source": []
  }
 ],
 "metadata": {
  "kernelspec": {
   "display_name": "Python 3 (ipykernel)",
   "language": "python",
   "name": "python3"
  },
  "language_info": {
   "codemirror_mode": {
    "name": "ipython",
    "version": 3
   },
   "file_extension": ".py",
   "mimetype": "text/x-python",
   "name": "python",
   "nbconvert_exporter": "python",
   "pygments_lexer": "ipython3",
   "version": "3.8.3"
  }
 },
 "nbformat": 4,
 "nbformat_minor": 5
}
